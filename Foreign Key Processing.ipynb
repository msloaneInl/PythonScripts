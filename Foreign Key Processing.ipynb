{
 "cells": [
  {
   "cell_type": "markdown",
   "metadata": {},
   "source": [
    "# Foreign Key Processing"
   ]
  },
  {
   "cell_type": "code",
   "execution_count": 2,
   "metadata": {},
   "outputs": [
    {
     "name": "stdout",
     "output_type": "stream",
     "text": [
      "Defaulting to user installation because normal site-packages is not writeable\n",
      "Collecting networkx\n",
      "  Downloading networkx-3.2.1-py3-none-any.whl.metadata (5.2 kB)\n",
      "Downloading networkx-3.2.1-py3-none-any.whl (1.6 MB)\n",
      "   ---------------------------------------- 0.0/1.6 MB ? eta -:--:--\n",
      "   - -------------------------------------- 0.1/1.6 MB 1.7 MB/s eta 0:00:01\n",
      "   ----- ---------------------------------- 0.2/1.6 MB 2.9 MB/s eta 0:00:01\n",
      "   ------------- -------------------------- 0.6/1.6 MB 4.3 MB/s eta 0:00:01\n",
      "   -------------------- ------------------- 0.8/1.6 MB 4.9 MB/s eta 0:00:01\n",
      "   ---------------------------------------  1.6/1.6 MB 7.5 MB/s eta 0:00:01\n",
      "   ---------------------------------------- 1.6/1.6 MB 6.6 MB/s eta 0:00:00\n",
      "Installing collected packages: networkx\n",
      "Successfully installed networkx-3.2.1\n"
     ]
    }
   ],
   "source": [
    "# ! py -m pip install networkx"
   ]
  },
  {
   "cell_type": "code",
   "execution_count": 4,
   "metadata": {},
   "outputs": [],
   "source": [
    "import pandas as pd\n",
    "import networkx as nx"
   ]
  },
  {
   "cell_type": "code",
   "execution_count": 5,
   "metadata": {},
   "outputs": [],
   "source": [
    "path = 'C:\\\\Users\\\\mounsl\\\\OneDrive - Idaho National Laboratory\\\\Documents - GRP-Agree Data Assessment Team\\\\Security\\\\3. Data and Modeling\\\\Data Dictionary\\\\IFACTS\\\\' #path to where files for the database are kept\n",
    "database = 'IFACTS'\n",
    "date = '20240515'"
   ]
  },
  {
   "cell_type": "code",
   "execution_count": 6,
   "metadata": {},
   "outputs": [],
   "source": [
    "raw_FKs = pd.read_excel(path+database+'_FKs_'+date+'.xlsx')"
   ]
  },
  {
   "cell_type": "markdown",
   "metadata": {},
   "source": [
    "## Manual Analysis"
   ]
  },
  {
   "cell_type": "code",
   "execution_count": null,
   "metadata": {},
   "outputs": [],
   "source": [
    "\n",
    "starting_table = 'datRequest_ForeignNational'"
   ]
  },
  {
   "cell_type": "code",
   "execution_count": 7,
   "metadata": {},
   "outputs": [
    {
     "data": {
      "text/html": [
       "<div>\n",
       "<style scoped>\n",
       "    .dataframe tbody tr th:only-of-type {\n",
       "        vertical-align: middle;\n",
       "    }\n",
       "\n",
       "    .dataframe tbody tr th {\n",
       "        vertical-align: top;\n",
       "    }\n",
       "\n",
       "    .dataframe thead th {\n",
       "        text-align: right;\n",
       "    }\n",
       "</style>\n",
       "<table border=\"1\" class=\"dataframe\">\n",
       "  <thead>\n",
       "    <tr style=\"text-align: right;\">\n",
       "      <th></th>\n",
       "      <th>SchemaName</th>\n",
       "      <th>TableName</th>\n",
       "      <th>ReferencedTable</th>\n",
       "      <th>ColumnName</th>\n",
       "      <th>FK_name</th>\n",
       "      <th>ReferencedColumn</th>\n",
       "    </tr>\n",
       "  </thead>\n",
       "  <tbody>\n",
       "    <tr>\n",
       "      <th>0</th>\n",
       "      <td>dbo</td>\n",
       "      <td>aspnet_Membership</td>\n",
       "      <td>aspnet_Applications</td>\n",
       "      <td>ApplicationId</td>\n",
       "      <td>FK__aspnet_Me__Appli__1FD8A9E3</td>\n",
       "      <td>ApplicationId</td>\n",
       "    </tr>\n",
       "    <tr>\n",
       "      <th>1</th>\n",
       "      <td>dbo</td>\n",
       "      <td>aspnet_Membership</td>\n",
       "      <td>aspnet_Users</td>\n",
       "      <td>UserId</td>\n",
       "      <td>FK__aspnet_Me__UserI__20CCCE1C</td>\n",
       "      <td>UserId</td>\n",
       "    </tr>\n",
       "    <tr>\n",
       "      <th>2</th>\n",
       "      <td>dbo</td>\n",
       "      <td>aspnet_Paths</td>\n",
       "      <td>aspnet_Applications</td>\n",
       "      <td>ApplicationId</td>\n",
       "      <td>FK__aspnet_Pa__Appli__51700577</td>\n",
       "      <td>ApplicationId</td>\n",
       "    </tr>\n",
       "    <tr>\n",
       "      <th>3</th>\n",
       "      <td>dbo</td>\n",
       "      <td>aspnet_PersonalizationAllUsers</td>\n",
       "      <td>aspnet_Paths</td>\n",
       "      <td>PathId</td>\n",
       "      <td>FK__aspnet_Pe__PathI__5728DECD</td>\n",
       "      <td>PathId</td>\n",
       "    </tr>\n",
       "    <tr>\n",
       "      <th>4</th>\n",
       "      <td>dbo</td>\n",
       "      <td>aspnet_PersonalizationPerUser</td>\n",
       "      <td>aspnet_Paths</td>\n",
       "      <td>PathId</td>\n",
       "      <td>FK__aspnet_Pe__PathI__5AF96FB1</td>\n",
       "      <td>PathId</td>\n",
       "    </tr>\n",
       "    <tr>\n",
       "      <th>...</th>\n",
       "      <td>...</td>\n",
       "      <td>...</td>\n",
       "      <td>...</td>\n",
       "      <td>...</td>\n",
       "      <td>...</td>\n",
       "      <td>...</td>\n",
       "    </tr>\n",
       "    <tr>\n",
       "      <th>111</th>\n",
       "      <td>dbo</td>\n",
       "      <td>datUserReportCol</td>\n",
       "      <td>datUserReport</td>\n",
       "      <td>UserReport_ID</td>\n",
       "      <td>FK_datUserReportCol_datUserReport</td>\n",
       "      <td>UserReport_ID</td>\n",
       "    </tr>\n",
       "    <tr>\n",
       "      <th>112</th>\n",
       "      <td>dbo</td>\n",
       "      <td>datUserReportUdf</td>\n",
       "      <td>datReportUdf</td>\n",
       "      <td>ReportUdf_ID</td>\n",
       "      <td>FK_datUserReportUdf_datReportUdf</td>\n",
       "      <td>ReportUdf_ID</td>\n",
       "    </tr>\n",
       "    <tr>\n",
       "      <th>113</th>\n",
       "      <td>dbo</td>\n",
       "      <td>datUserReportUdf</td>\n",
       "      <td>datUserReport</td>\n",
       "      <td>UserReport_ID</td>\n",
       "      <td>FK_datUserReportUdf_datUserReport</td>\n",
       "      <td>UserReport_ID</td>\n",
       "    </tr>\n",
       "    <tr>\n",
       "      <th>114</th>\n",
       "      <td>dbo</td>\n",
       "      <td>luCountry</td>\n",
       "      <td>luCountryType</td>\n",
       "      <td>CountryType_ID</td>\n",
       "      <td>FK_luCountry_luCountryType</td>\n",
       "      <td>CountryType_ID</td>\n",
       "    </tr>\n",
       "    <tr>\n",
       "      <th>115</th>\n",
       "      <td>dbo</td>\n",
       "      <td>luSoftware</td>\n",
       "      <td>luSoftwareType</td>\n",
       "      <td>SoftwareType_ID</td>\n",
       "      <td>FK_luSoftware_luSoftwareType</td>\n",
       "      <td>SoftwareType_ID</td>\n",
       "    </tr>\n",
       "  </tbody>\n",
       "</table>\n",
       "<p>116 rows × 6 columns</p>\n",
       "</div>"
      ],
      "text/plain": [
       "    SchemaName                       TableName      ReferencedTable  \\\n",
       "0          dbo               aspnet_Membership  aspnet_Applications   \n",
       "1          dbo               aspnet_Membership         aspnet_Users   \n",
       "2          dbo                    aspnet_Paths  aspnet_Applications   \n",
       "3          dbo  aspnet_PersonalizationAllUsers         aspnet_Paths   \n",
       "4          dbo   aspnet_PersonalizationPerUser         aspnet_Paths   \n",
       "..         ...                             ...                  ...   \n",
       "111        dbo                datUserReportCol        datUserReport   \n",
       "112        dbo                datUserReportUdf         datReportUdf   \n",
       "113        dbo                datUserReportUdf        datUserReport   \n",
       "114        dbo                       luCountry        luCountryType   \n",
       "115        dbo                      luSoftware       luSoftwareType   \n",
       "\n",
       "          ColumnName                            FK_name ReferencedColumn  \n",
       "0      ApplicationId     FK__aspnet_Me__Appli__1FD8A9E3    ApplicationId  \n",
       "1             UserId     FK__aspnet_Me__UserI__20CCCE1C           UserId  \n",
       "2      ApplicationId     FK__aspnet_Pa__Appli__51700577    ApplicationId  \n",
       "3             PathId     FK__aspnet_Pe__PathI__5728DECD           PathId  \n",
       "4             PathId     FK__aspnet_Pe__PathI__5AF96FB1           PathId  \n",
       "..               ...                                ...              ...  \n",
       "111    UserReport_ID  FK_datUserReportCol_datUserReport    UserReport_ID  \n",
       "112     ReportUdf_ID   FK_datUserReportUdf_datReportUdf     ReportUdf_ID  \n",
       "113    UserReport_ID  FK_datUserReportUdf_datUserReport    UserReport_ID  \n",
       "114   CountryType_ID         FK_luCountry_luCountryType   CountryType_ID  \n",
       "115  SoftwareType_ID       FK_luSoftware_luSoftwareType  SoftwareType_ID  \n",
       "\n",
       "[116 rows x 6 columns]"
      ]
     },
     "execution_count": 7,
     "metadata": {},
     "output_type": "execute_result"
    }
   ],
   "source": [
    "raw_FKs#['TableName'].value_counts()"
   ]
  },
  {
   "cell_type": "code",
   "execution_count": 9,
   "metadata": {},
   "outputs": [
    {
     "data": {
      "text/html": [
       "<div>\n",
       "<style scoped>\n",
       "    .dataframe tbody tr th:only-of-type {\n",
       "        vertical-align: middle;\n",
       "    }\n",
       "\n",
       "    .dataframe tbody tr th {\n",
       "        vertical-align: top;\n",
       "    }\n",
       "\n",
       "    .dataframe thead th {\n",
       "        text-align: right;\n",
       "    }\n",
       "</style>\n",
       "<table border=\"1\" class=\"dataframe\">\n",
       "  <thead>\n",
       "    <tr style=\"text-align: right;\">\n",
       "      <th></th>\n",
       "      <th>SchemaName</th>\n",
       "      <th>TableName</th>\n",
       "      <th>ReferencedTable</th>\n",
       "      <th>ColumnName</th>\n",
       "      <th>FK_name</th>\n",
       "      <th>ReferencedColumn</th>\n",
       "    </tr>\n",
       "  </thead>\n",
       "  <tbody>\n",
       "    <tr>\n",
       "      <th>51</th>\n",
       "      <td>dbo</td>\n",
       "      <td>datRequest_ForeignNational</td>\n",
       "      <td>datApprRequestForm</td>\n",
       "      <td>ApprRequestForm_ID</td>\n",
       "      <td>FK_datRequest_ForeignNational_datApprRequestForm</td>\n",
       "      <td>ApprRequestForm_ID</td>\n",
       "    </tr>\n",
       "    <tr>\n",
       "      <th>52</th>\n",
       "      <td>dbo</td>\n",
       "      <td>datRequest_ForeignNational</td>\n",
       "      <td>luCountry</td>\n",
       "      <td>BirthCitiz_ID</td>\n",
       "      <td>FK_datRequest_ForeignNational_luCountry1</td>\n",
       "      <td>Country_ID</td>\n",
       "    </tr>\n",
       "    <tr>\n",
       "      <th>53</th>\n",
       "      <td>dbo</td>\n",
       "      <td>datRequest_ForeignNational</td>\n",
       "      <td>luCountry</td>\n",
       "      <td>BirthCountry_ID</td>\n",
       "      <td>FK_datRequest_ForeignNational_luCountry</td>\n",
       "      <td>Country_ID</td>\n",
       "    </tr>\n",
       "    <tr>\n",
       "      <th>54</th>\n",
       "      <td>dbo</td>\n",
       "      <td>datRequest_ForeignNational</td>\n",
       "      <td>luCountry</td>\n",
       "      <td>CountryResidence_ID</td>\n",
       "      <td>FK_datRequest_ForeignNational_luCountry4</td>\n",
       "      <td>Country_ID</td>\n",
       "    </tr>\n",
       "    <tr>\n",
       "      <th>55</th>\n",
       "      <td>dbo</td>\n",
       "      <td>datRequest_ForeignNational</td>\n",
       "      <td>luCountry</td>\n",
       "      <td>DualCitiz1_ID</td>\n",
       "      <td>FK_datRequest_ForeignNational_luCountry2</td>\n",
       "      <td>Country_ID</td>\n",
       "    </tr>\n",
       "    <tr>\n",
       "      <th>56</th>\n",
       "      <td>dbo</td>\n",
       "      <td>datRequest_ForeignNational</td>\n",
       "      <td>luCountry</td>\n",
       "      <td>DualCitiz2_ID</td>\n",
       "      <td>FK_datRequest_ForeignNational_luCountry3</td>\n",
       "      <td>Country_ID</td>\n",
       "    </tr>\n",
       "    <tr>\n",
       "      <th>57</th>\n",
       "      <td>dbo</td>\n",
       "      <td>datRequest_ForeignNational</td>\n",
       "      <td>luCountry</td>\n",
       "      <td>EmployerCountry_ID</td>\n",
       "      <td>FK_datRequest_ForeignNational_luCountry6</td>\n",
       "      <td>Country_ID</td>\n",
       "    </tr>\n",
       "    <tr>\n",
       "      <th>58</th>\n",
       "      <td>dbo</td>\n",
       "      <td>datRequest_ForeignNational</td>\n",
       "      <td>luSupportingDocu</td>\n",
       "      <td>I94SuppDoc_ID</td>\n",
       "      <td>FK_datRequest_ForeignNational_luSupportingDocu</td>\n",
       "      <td>SupportingDocu_ID</td>\n",
       "    </tr>\n",
       "    <tr>\n",
       "      <th>59</th>\n",
       "      <td>dbo</td>\n",
       "      <td>datRequest_ForeignNational</td>\n",
       "      <td>luCountry</td>\n",
       "      <td>PassportCountry_ID</td>\n",
       "      <td>FK_datRequest_ForeignNational_luCountry5</td>\n",
       "      <td>Country_ID</td>\n",
       "    </tr>\n",
       "    <tr>\n",
       "      <th>60</th>\n",
       "      <td>dbo</td>\n",
       "      <td>datRequest_ForeignNational</td>\n",
       "      <td>luVisaCode</td>\n",
       "      <td>VisaCode_ID</td>\n",
       "      <td>FK_datRequest_ForeignNational_luVisaCode</td>\n",
       "      <td>VisaCode_ID</td>\n",
       "    </tr>\n",
       "  </tbody>\n",
       "</table>\n",
       "</div>"
      ],
      "text/plain": [
       "   SchemaName                   TableName     ReferencedTable  \\\n",
       "51        dbo  datRequest_ForeignNational  datApprRequestForm   \n",
       "52        dbo  datRequest_ForeignNational           luCountry   \n",
       "53        dbo  datRequest_ForeignNational           luCountry   \n",
       "54        dbo  datRequest_ForeignNational           luCountry   \n",
       "55        dbo  datRequest_ForeignNational           luCountry   \n",
       "56        dbo  datRequest_ForeignNational           luCountry   \n",
       "57        dbo  datRequest_ForeignNational           luCountry   \n",
       "58        dbo  datRequest_ForeignNational    luSupportingDocu   \n",
       "59        dbo  datRequest_ForeignNational           luCountry   \n",
       "60        dbo  datRequest_ForeignNational          luVisaCode   \n",
       "\n",
       "             ColumnName                                           FK_name  \\\n",
       "51   ApprRequestForm_ID  FK_datRequest_ForeignNational_datApprRequestForm   \n",
       "52        BirthCitiz_ID          FK_datRequest_ForeignNational_luCountry1   \n",
       "53      BirthCountry_ID           FK_datRequest_ForeignNational_luCountry   \n",
       "54  CountryResidence_ID          FK_datRequest_ForeignNational_luCountry4   \n",
       "55        DualCitiz1_ID          FK_datRequest_ForeignNational_luCountry2   \n",
       "56        DualCitiz2_ID          FK_datRequest_ForeignNational_luCountry3   \n",
       "57   EmployerCountry_ID          FK_datRequest_ForeignNational_luCountry6   \n",
       "58        I94SuppDoc_ID    FK_datRequest_ForeignNational_luSupportingDocu   \n",
       "59   PassportCountry_ID          FK_datRequest_ForeignNational_luCountry5   \n",
       "60          VisaCode_ID          FK_datRequest_ForeignNational_luVisaCode   \n",
       "\n",
       "      ReferencedColumn  \n",
       "51  ApprRequestForm_ID  \n",
       "52          Country_ID  \n",
       "53          Country_ID  \n",
       "54          Country_ID  \n",
       "55          Country_ID  \n",
       "56          Country_ID  \n",
       "57          Country_ID  \n",
       "58   SupportingDocu_ID  \n",
       "59          Country_ID  \n",
       "60         VisaCode_ID  "
      ]
     },
     "execution_count": 9,
     "metadata": {},
     "output_type": "execute_result"
    }
   ],
   "source": [
    "raw_FKs[raw_FKs['TableName']==starting_table]"
   ]
  },
  {
   "cell_type": "code",
   "execution_count": 20,
   "metadata": {},
   "outputs": [],
   "source": [
    "fks = raw_FKs.groupby('TableName').agg({'ReferencedTable': lambda x: x.tolist()}).reset_index()"
   ]
  },
  {
   "cell_type": "code",
   "execution_count": 21,
   "metadata": {},
   "outputs": [],
   "source": [
    "rev_fks = raw_FKs.groupby('ReferencedTable').agg({'TableName': lambda x: x.tolist()}).reset_index()"
   ]
  },
  {
   "cell_type": "code",
   "execution_count": 22,
   "metadata": {},
   "outputs": [],
   "source": [
    "fks_dict = pd.Series(fks.ReferencedTable.values,index=fks.TableName).to_dict()"
   ]
  },
  {
   "cell_type": "code",
   "execution_count": 23,
   "metadata": {},
   "outputs": [],
   "source": [
    "rev_fks_dict = pd.Series(rev_fks.TableName.values,index=rev_fks.ReferencedTable).to_dict()"
   ]
  },
  {
   "cell_type": "code",
   "execution_count": 29,
   "metadata": {},
   "outputs": [
    {
     "data": {
      "text/plain": [
       "['datApprRequestForm',\n",
       " 'luCountry',\n",
       " 'luCountry',\n",
       " 'luCountry',\n",
       " 'luCountry',\n",
       " 'luCountry',\n",
       " 'luCountry',\n",
       " 'luSupportingDocu',\n",
       " 'luCountry',\n",
       " 'luVisaCode']"
      ]
     },
     "execution_count": 29,
     "metadata": {},
     "output_type": "execute_result"
    }
   ],
   "source": [
    "fks_dict['datRequest_ForeignNational']"
   ]
  },
  {
   "cell_type": "code",
   "execution_count": 24,
   "metadata": {},
   "outputs": [
    {
     "data": {
      "text/plain": [
       "['datRequest_FN_FamilyMember']"
      ]
     },
     "execution_count": 24,
     "metadata": {},
     "output_type": "execute_result"
    }
   ],
   "source": [
    "rev_fks_dict['datRequest_ForeignNational']"
   ]
  },
  {
   "cell_type": "code",
   "execution_count": 25,
   "metadata": {},
   "outputs": [],
   "source": [
    "def create_list_from_table (dict, rev_dict, list):\n",
    "    if len(list) == 0:\n",
    "        return\n",
    "    else:\n",
    "        for table in list:\n",
    "            if table in dict:                \n",
    "                sublist = dict[table]\n",
    "                # print('Tables referenced by ', table,':')           \n",
    "                for item in sublist:    \n",
    "                    print(item)\n",
    "                create_list_from_table(dict, rev_dict, sublist)\n",
    "            if table in rev_dict:\n",
    "                revsublist = rev_dict[table]\n",
    "                # print('Tables that reference ', table, ':')\n",
    "                for item in revsublist:\n",
    "                    print(item)\n",
    "            #     create_list_from_table(dict, rev_dict, revsublist) # infinite loop\n"
   ]
  },
  {
   "cell_type": "code",
   "execution_count": 26,
   "metadata": {},
   "outputs": [
    {
     "name": "stdout",
     "output_type": "stream",
     "text": [
      "datApprRequestForm\n",
      "luCountry\n",
      "luCountry\n",
      "luCountry\n",
      "luCountry\n",
      "luCountry\n",
      "luCountry\n",
      "luSupportingDocu\n",
      "luCountry\n",
      "luVisaCode\n",
      "luVisitStatus\n",
      "luCompany\n",
      "luExpeditedRequestState\n",
      "luInteractionType\n",
      "luInteractionType\n",
      "luPurposeCode\n",
      "luSensitiveTopic\n",
      "luState\n",
      "datApprRequestForm\n",
      "datREVApprRequestForm\n",
      "datApprRequestForm\n",
      "datREVApprRequestForm\n",
      "datApprRequestForm\n",
      "datREVApprRequestForm\n",
      "datApprRequestForm\n",
      "datApprRequestForm\n",
      "datREVApprRequestForm\n",
      "datREVApprRequestForm\n",
      "datApprRequestForm\n",
      "datApprRequestForm\n",
      "datREVApprRequestForm\n",
      "datREVApprRequestForm\n",
      "datApprRequestForm\n",
      "datREVApprRequestForm\n",
      "datApprRequestForm\n",
      "datREVApprRequestForm\n",
      "datApprRequestForm\n",
      "datREVApprRequestForm\n",
      "brRequest_Area\n",
      "brRequest_Software\n",
      "brRequest_StateAction\n",
      "brRequest_SubjectCode\n",
      "datAddtSubmitter\n",
      "datAwareIndividual\n",
      "datEscort\n",
      "datHistoricalSecPlan\n",
      "datPrevisitBriefingLog\n",
      "datRequest_ForeignNational\n",
      "datRequest_OpenConcur\n",
      "datRequestComputer\n",
      "datRequestSecArea\n",
      "datSecPlanLetter\n",
      "datSTMatrixAffiliate\n",
      "datSTMatrixLived\n",
      "datSTMatrixRelationship\n",
      "datSTMatrixVisit\n",
      "luCountryType\n",
      "luCountry\n",
      "datRequest_FN_FamilyMember\n",
      "datRequest_FN_FamilyMember\n",
      "datRequest_ForeignNational\n",
      "datRequest_ForeignNational\n",
      "datRequest_ForeignNational\n",
      "datRequest_ForeignNational\n",
      "datRequest_ForeignNational\n",
      "datRequest_ForeignNational\n",
      "datRequest_ForeignNational\n",
      "datREVRequest_FN_FamilyMember\n",
      "datREVRequest_FN_FamilyMember\n",
      "datREVRequest_ForeignNational\n",
      "datREVRequest_ForeignNational\n",
      "datREVRequest_ForeignNational\n",
      "datREVRequest_ForeignNational\n",
      "datREVRequest_ForeignNational\n",
      "datREVRequest_ForeignNational\n",
      "datREVRequest_ForeignNational\n",
      "luCountryType\n",
      "luCountry\n",
      "datRequest_FN_FamilyMember\n",
      "datRequest_FN_FamilyMember\n",
      "datRequest_ForeignNational\n",
      "datRequest_ForeignNational\n",
      "datRequest_ForeignNational\n",
      "datRequest_ForeignNational\n",
      "datRequest_ForeignNational\n",
      "datRequest_ForeignNational\n",
      "datRequest_ForeignNational\n",
      "datREVRequest_FN_FamilyMember\n",
      "datREVRequest_FN_FamilyMember\n",
      "datREVRequest_ForeignNational\n",
      "datREVRequest_ForeignNational\n",
      "datREVRequest_ForeignNational\n",
      "datREVRequest_ForeignNational\n",
      "datREVRequest_ForeignNational\n",
      "datREVRequest_ForeignNational\n",
      "datREVRequest_ForeignNational\n",
      "luCountryType\n",
      "luCountry\n",
      "datRequest_FN_FamilyMember\n",
      "datRequest_FN_FamilyMember\n",
      "datRequest_ForeignNational\n",
      "datRequest_ForeignNational\n",
      "datRequest_ForeignNational\n",
      "datRequest_ForeignNational\n",
      "datRequest_ForeignNational\n",
      "datRequest_ForeignNational\n",
      "datRequest_ForeignNational\n",
      "datREVRequest_FN_FamilyMember\n",
      "datREVRequest_FN_FamilyMember\n",
      "datREVRequest_ForeignNational\n",
      "datREVRequest_ForeignNational\n",
      "datREVRequest_ForeignNational\n",
      "datREVRequest_ForeignNational\n",
      "datREVRequest_ForeignNational\n",
      "datREVRequest_ForeignNational\n",
      "datREVRequest_ForeignNational\n",
      "luCountryType\n",
      "luCountry\n",
      "datRequest_FN_FamilyMember\n",
      "datRequest_FN_FamilyMember\n",
      "datRequest_ForeignNational\n",
      "datRequest_ForeignNational\n",
      "datRequest_ForeignNational\n",
      "datRequest_ForeignNational\n",
      "datRequest_ForeignNational\n",
      "datRequest_ForeignNational\n",
      "datRequest_ForeignNational\n",
      "datREVRequest_FN_FamilyMember\n",
      "datREVRequest_FN_FamilyMember\n",
      "datREVRequest_ForeignNational\n",
      "datREVRequest_ForeignNational\n",
      "datREVRequest_ForeignNational\n",
      "datREVRequest_ForeignNational\n",
      "datREVRequest_ForeignNational\n",
      "datREVRequest_ForeignNational\n",
      "datREVRequest_ForeignNational\n",
      "luCountryType\n",
      "luCountry\n",
      "datRequest_FN_FamilyMember\n",
      "datRequest_FN_FamilyMember\n",
      "datRequest_ForeignNational\n",
      "datRequest_ForeignNational\n",
      "datRequest_ForeignNational\n",
      "datRequest_ForeignNational\n",
      "datRequest_ForeignNational\n",
      "datRequest_ForeignNational\n",
      "datRequest_ForeignNational\n",
      "datREVRequest_FN_FamilyMember\n",
      "datREVRequest_FN_FamilyMember\n",
      "datREVRequest_ForeignNational\n",
      "datREVRequest_ForeignNational\n",
      "datREVRequest_ForeignNational\n",
      "datREVRequest_ForeignNational\n",
      "datREVRequest_ForeignNational\n",
      "datREVRequest_ForeignNational\n",
      "datREVRequest_ForeignNational\n",
      "luCountryType\n",
      "luCountry\n",
      "datRequest_FN_FamilyMember\n",
      "datRequest_FN_FamilyMember\n",
      "datRequest_ForeignNational\n",
      "datRequest_ForeignNational\n",
      "datRequest_ForeignNational\n",
      "datRequest_ForeignNational\n",
      "datRequest_ForeignNational\n",
      "datRequest_ForeignNational\n",
      "datRequest_ForeignNational\n",
      "datREVRequest_FN_FamilyMember\n",
      "datREVRequest_FN_FamilyMember\n",
      "datREVRequest_ForeignNational\n",
      "datREVRequest_ForeignNational\n",
      "datREVRequest_ForeignNational\n",
      "datREVRequest_ForeignNational\n",
      "datREVRequest_ForeignNational\n",
      "datREVRequest_ForeignNational\n",
      "datREVRequest_ForeignNational\n",
      "datRequest_ForeignNational\n",
      "datREVRequest_ForeignNational\n",
      "luCountryType\n",
      "luCountry\n",
      "datRequest_FN_FamilyMember\n",
      "datRequest_FN_FamilyMember\n",
      "datRequest_ForeignNational\n",
      "datRequest_ForeignNational\n",
      "datRequest_ForeignNational\n",
      "datRequest_ForeignNational\n",
      "datRequest_ForeignNational\n",
      "datRequest_ForeignNational\n",
      "datRequest_ForeignNational\n",
      "datREVRequest_FN_FamilyMember\n",
      "datREVRequest_FN_FamilyMember\n",
      "datREVRequest_ForeignNational\n",
      "datREVRequest_ForeignNational\n",
      "datREVRequest_ForeignNational\n",
      "datREVRequest_ForeignNational\n",
      "datREVRequest_ForeignNational\n",
      "datREVRequest_ForeignNational\n",
      "datREVRequest_ForeignNational\n",
      "datRequest_ForeignNational\n",
      "datREVRequest_ForeignNational\n",
      "datRequest_FN_FamilyMember\n"
     ]
    }
   ],
   "source": [
    "create_list_from_table(fks_dict, rev_fks_dict, ['datRequest_ForeignNational'])"
   ]
  },
  {
   "cell_type": "code",
   "execution_count": 42,
   "metadata": {},
   "outputs": [],
   "source": [
    "listoftables = pd.read_clipboard(header=None,names=['TableName'])"
   ]
  },
  {
   "cell_type": "code",
   "execution_count": 50,
   "metadata": {},
   "outputs": [
    {
     "data": {
      "text/plain": [
       "34"
      ]
     },
     "execution_count": 50,
     "metadata": {},
     "output_type": "execute_result"
    }
   ],
   "source": [
    "listoftables['TableName'].nunique()"
   ]
  },
  {
   "cell_type": "markdown",
   "metadata": {},
   "source": [
    "## Analysis with NetworkX\n",
    "\n",
    "Documentation: https://networkx.org/documentation/stable/reference/index.html"
   ]
  },
  {
   "cell_type": "code",
   "execution_count": 9,
   "metadata": {},
   "outputs": [],
   "source": [
    "edgelist = raw_FKs[['TableName', 'ReferencedTable']]"
   ]
  },
  {
   "cell_type": "code",
   "execution_count": 10,
   "metadata": {},
   "outputs": [
    {
     "data": {
      "text/html": [
       "<div>\n",
       "<style scoped>\n",
       "    .dataframe tbody tr th:only-of-type {\n",
       "        vertical-align: middle;\n",
       "    }\n",
       "\n",
       "    .dataframe tbody tr th {\n",
       "        vertical-align: top;\n",
       "    }\n",
       "\n",
       "    .dataframe thead th {\n",
       "        text-align: right;\n",
       "    }\n",
       "</style>\n",
       "<table border=\"1\" class=\"dataframe\">\n",
       "  <thead>\n",
       "    <tr style=\"text-align: right;\">\n",
       "      <th></th>\n",
       "      <th>TableName</th>\n",
       "      <th>ReferencedTable</th>\n",
       "    </tr>\n",
       "  </thead>\n",
       "  <tbody>\n",
       "    <tr>\n",
       "      <th>0</th>\n",
       "      <td>aspnet_Membership</td>\n",
       "      <td>aspnet_Applications</td>\n",
       "    </tr>\n",
       "    <tr>\n",
       "      <th>1</th>\n",
       "      <td>aspnet_Membership</td>\n",
       "      <td>aspnet_Users</td>\n",
       "    </tr>\n",
       "    <tr>\n",
       "      <th>2</th>\n",
       "      <td>aspnet_Paths</td>\n",
       "      <td>aspnet_Applications</td>\n",
       "    </tr>\n",
       "    <tr>\n",
       "      <th>3</th>\n",
       "      <td>aspnet_PersonalizationAllUsers</td>\n",
       "      <td>aspnet_Paths</td>\n",
       "    </tr>\n",
       "    <tr>\n",
       "      <th>4</th>\n",
       "      <td>aspnet_PersonalizationPerUser</td>\n",
       "      <td>aspnet_Paths</td>\n",
       "    </tr>\n",
       "    <tr>\n",
       "      <th>...</th>\n",
       "      <td>...</td>\n",
       "      <td>...</td>\n",
       "    </tr>\n",
       "    <tr>\n",
       "      <th>111</th>\n",
       "      <td>datUserReportCol</td>\n",
       "      <td>datUserReport</td>\n",
       "    </tr>\n",
       "    <tr>\n",
       "      <th>112</th>\n",
       "      <td>datUserReportUdf</td>\n",
       "      <td>datReportUdf</td>\n",
       "    </tr>\n",
       "    <tr>\n",
       "      <th>113</th>\n",
       "      <td>datUserReportUdf</td>\n",
       "      <td>datUserReport</td>\n",
       "    </tr>\n",
       "    <tr>\n",
       "      <th>114</th>\n",
       "      <td>luCountry</td>\n",
       "      <td>luCountryType</td>\n",
       "    </tr>\n",
       "    <tr>\n",
       "      <th>115</th>\n",
       "      <td>luSoftware</td>\n",
       "      <td>luSoftwareType</td>\n",
       "    </tr>\n",
       "  </tbody>\n",
       "</table>\n",
       "<p>116 rows × 2 columns</p>\n",
       "</div>"
      ],
      "text/plain": [
       "                          TableName      ReferencedTable\n",
       "0                 aspnet_Membership  aspnet_Applications\n",
       "1                 aspnet_Membership         aspnet_Users\n",
       "2                      aspnet_Paths  aspnet_Applications\n",
       "3    aspnet_PersonalizationAllUsers         aspnet_Paths\n",
       "4     aspnet_PersonalizationPerUser         aspnet_Paths\n",
       "..                              ...                  ...\n",
       "111                datUserReportCol        datUserReport\n",
       "112                datUserReportUdf         datReportUdf\n",
       "113                datUserReportUdf        datUserReport\n",
       "114                       luCountry        luCountryType\n",
       "115                      luSoftware       luSoftwareType\n",
       "\n",
       "[116 rows x 2 columns]"
      ]
     },
     "execution_count": 10,
     "metadata": {},
     "output_type": "execute_result"
    }
   ],
   "source": [
    "edgelist"
   ]
  },
  {
   "cell_type": "code",
   "execution_count": 11,
   "metadata": {},
   "outputs": [],
   "source": [
    "edgelist.to_csv(database+'_edgelist.csv', index=False, header=False)"
   ]
  },
  {
   "cell_type": "code",
   "execution_count": 26,
   "metadata": {},
   "outputs": [],
   "source": [
    "fk_graph = nx.read_edgelist(database+'_edgelist.csv', delimiter=',',create_using=nx.DiGraph)"
   ]
  },
  {
   "cell_type": "code",
   "execution_count": 27,
   "metadata": {},
   "outputs": [
    {
     "data": {
      "text/plain": [
       "83"
      ]
     },
     "execution_count": 27,
     "metadata": {},
     "output_type": "execute_result"
    }
   ],
   "source": [
    "fk_graph.number_of_nodes()"
   ]
  },
  {
   "cell_type": "code",
   "execution_count": 28,
   "metadata": {},
   "outputs": [
    {
     "data": {
      "text/plain": [
       "100"
      ]
     },
     "execution_count": 28,
     "metadata": {},
     "output_type": "execute_result"
    }
   ],
   "source": [
    "fk_graph.number_of_edges()"
   ]
  },
  {
   "cell_type": "code",
   "execution_count": 47,
   "metadata": {},
   "outputs": [
    {
     "data": {
      "text/plain": [
       "True"
      ]
     },
     "execution_count": 47,
     "metadata": {},
     "output_type": "execute_result"
    }
   ],
   "source": [
    "nx.is_directed_acyclic_graph(fk_graph)"
   ]
  },
  {
   "cell_type": "code",
   "execution_count": 30,
   "metadata": {},
   "outputs": [
    {
     "data": {
      "text/plain": [
       "False"
      ]
     },
     "execution_count": 30,
     "metadata": {},
     "output_type": "execute_result"
    }
   ],
   "source": [
    "nx.is_weakly_connected(fk_graph)"
   ]
  },
  {
   "cell_type": "code",
   "execution_count": 32,
   "metadata": {},
   "outputs": [
    {
     "data": {
      "text/plain": [
       "5"
      ]
     },
     "execution_count": 32,
     "metadata": {},
     "output_type": "execute_result"
    }
   ],
   "source": [
    "nx.number_weakly_connected_components(fk_graph)"
   ]
  },
  {
   "cell_type": "code",
   "execution_count": 40,
   "metadata": {},
   "outputs": [
    {
     "name": "stdout",
     "output_type": "stream",
     "text": [
      "9 : {'aspnet_Membership', 'aspnet_Paths', 'aspnet_Roles', 'aspnet_PersonalizationPerUser', 'aspnet_UsersInRoles', 'aspnet_PersonalizationAllUsers', 'aspnet_Users', 'aspnet_Profile', 'aspnet_Applications'}\n",
      "62 : {'datREVRequest_ForeignNational', 'datREVHistoricalSecPlan', 'datPrevisitBriefingLog', 'datREVSTMatrixFinalAppr', 'enumHistoricalDataType', 'datRequest_OpenConcur', 'luSoftware', 'luSoftwareType', 'datAwareIndividual', 'datRequest_ForeignNational', 'datREVApprRequestForm', 'datStateActionLog', 'datRequestComputer', 'datRequest_FN_FamilyMember', 'brRequest_StateAction', 'datREVRequestSecArea', 'datHistoricalSecPlan', 'luRelationship', 'datREVSTMatrixVisit', 'datRequestSecArea', 'datREVAddtSubmitter', 'luCountryType', 'brREVRequest_SubjectCode', 'datREVSTMatrixLived', 'luAreaType', 'datSTMatrixVisit', 'datREVRequestComputer', 'brRequest_Area', 'brREVRequest_Area', 'datREVSTMatrixRelationship', 'luExpeditedRequestState', 'luVisaCode', 'luCountry', 'datArea', 'datREVSTMatrixAffiliate', 'luVisitStatus', 'luSubjectCodes', 'luCompany', 'datSecPlanLetter', 'datSTMatrixRelationship', 'datSTMatrixAffiliate', 'datSTMatrixLived', 'luPurposeCode', 'datEscort', 'datREVEscort', 'datSendBadgeNotification', 'brREVRequest_Software', 'datApprRequestForm', 'brREVRequest_StateAction', 'datREVSecPlanLetter', 'datREVRequest_FN_FamilyMember', 'luState', 'datREVPrevisitBriefingLog', 'luSupportingDocu', 'brRequest_Software', 'luRevState', 'brRequest_SubjectCode', 'datREVStateActionLog', 'luStateAction', 'luInteractionType', 'datAddtSubmitter', 'luSensitiveTopic'}\n",
      "2 : {'luRespArea', 'brUser_Role_RespArea'}\n",
      "7 : {'datReportTbl', 'datUserReportCol', 'datReportTblCol', 'luReportColType', 'datReportUdf', 'datUserReportUdf', 'datUserReport'}\n",
      "3 : {'datUploadedFile', 'datREVUploadedFile', 'luUploadType'}\n"
     ]
    }
   ],
   "source": [
    "for c in nx.weakly_connected_components(fk_graph):\n",
    "    print(len(c), ':', c)"
   ]
  }
 ],
 "metadata": {
  "kernelspec": {
   "display_name": "Python 3",
   "language": "python",
   "name": "python3"
  },
  "language_info": {
   "codemirror_mode": {
    "name": "ipython",
    "version": 3
   },
   "file_extension": ".py",
   "mimetype": "text/x-python",
   "name": "python",
   "nbconvert_exporter": "python",
   "pygments_lexer": "ipython3",
   "version": "3.9.13"
  }
 },
 "nbformat": 4,
 "nbformat_minor": 2
}
